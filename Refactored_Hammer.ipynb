{
  "nbformat": 4,
  "nbformat_minor": 0,
  "metadata": {
    "colab": {
      "provenance": [],
      "authorship_tag": "ABX9TyM5EBAdPJF/q9Pc0sTrt7RN"
    },
    "kernelspec": {
      "name": "python3",
      "display_name": "Python 3"
    },
    "language_info": {
      "name": "python"
    }
  },
  "cells": [
    {
      "cell_type": "code",
      "execution_count": null,
      "metadata": {
        "id": "3PAKfmQNpaPj"
      },
      "outputs": [],
      "source": [
        "def calc_value_sum(term,freq_mode, Iccap , alteration_months, Macro_VS, VS_per_alteration,alteration_months_premium,negative_VS):\n",
        "    check_val=Iccap-1\n",
        "    for i in range(0,5):\n",
        "        if(alteration_months_premium[i] > 0):\n",
        "            VS_per_alteration.append(alteration_months_premium[i] * Iccap)\n",
        "\n",
        "        elif alteration_months_premium[i] < 0:\n",
        "          negative_VS.append(alteration_months_premium[i])\n",
        "          if len(VS_per_alteration) <= i:\n",
        "              # The list VS_per_alteration has fewer than i+1 elements, so we need to add more elements\n",
        "              for _ in range(len(VS_per_alteration), i+1):\n",
        "                  VS_per_alteration.append(0)\n",
        "          print(i)\n",
        "          # check_val=Iccap-1\n",
        "          # print(\"Iccap = \" + str(check_val))\n",
        "          #Below condition to be changed for decreasing\n",
        "          VS_per_alteration[i] = (negative_VS[-1] * check_val)\n",
        "          check_val=check_val-1\n",
        "          print(\"Iccap2 = \" + str(check_val))\n",
        "    \n",
        "\n",
        "    month = alteration_months[1] - 1\n",
        "    for m in range(month):\n",
        "        Macro_VS.append(VS_per_alteration[0])\n",
        "    # Macro_VS.append(VS_per_alteration[0])        \n",
        "    for i in range(0,5):\n",
        "        if term > Iccap:\n",
        "#  this can be changed to Cpt(total) x Iccap\n",
        "          month = alteration_months[i] - alteration_months[i-1]\n",
        "          Value_Sum = Macro_VS[-1]+VS_per_alteration[i]\n",
        "          print(Value_Sum)\n",
        "          for j in range(month):\n",
        "              Macro_VS.append(Value_Sum)"
      ]
    },
    {
      "cell_type": "code",
      "source": [
        "alteration_months = [1,25,37,49,73]\n",
        "Macro_VS = []\n",
        "VS_per_alteration = []\n",
        "alteration_months_premium = [80,100,200,-80,-20]\n",
        "negative_VS = []\n",
        "Macro_VS_1 = []"
      ],
      "metadata": {
        "id": "Y5oiDrw5pwbG"
      },
      "execution_count": null,
      "outputs": []
    },
    {
      "cell_type": "code",
      "source": [
        "calc_value_sum(32,1,25, alteration_months, Macro_VS, VS_per_alteration,alteration_months_premium,negative_VS)"
      ],
      "metadata": {
        "colab": {
          "base_uri": "https://localhost:8080/"
        },
        "id": "xdL0VfmIp_uT",
        "outputId": "bb0c28b9-3189-4da8-c94f-727931aae2e1"
      },
      "execution_count": null,
      "outputs": [
        {
          "output_type": "stream",
          "name": "stdout",
          "text": [
            "3\n",
            "Iccap2 = 23\n",
            "4\n",
            "Iccap2 = 22\n",
            "4000\n",
            "4500\n",
            "9500\n",
            "7580\n",
            "7120\n"
          ]
        }
      ]
    },
    {
      "cell_type": "code",
      "source": [
        "VS_per_alteration"
      ],
      "metadata": {
        "colab": {
          "base_uri": "https://localhost:8080/"
        },
        "id": "bRCLZNnQqCxO",
        "outputId": "c8fea345-5aa4-4a69-aef8-d65fcf28c458"
      },
      "execution_count": null,
      "outputs": [
        {
          "output_type": "execute_result",
          "data": {
            "text/plain": [
              "[2000, 2500, 5000, -1920, -460]"
            ]
          },
          "metadata": {},
          "execution_count": 19
        }
      ]
    },
    {
      "cell_type": "code",
      "source": [
        "Macro_VS"
      ],
      "metadata": {
        "colab": {
          "base_uri": "https://localhost:8080/"
        },
        "id": "KydCQc5WqGHs",
        "outputId": "549e3510-bf99-436f-a646-d7e5f105122a"
      },
      "execution_count": null,
      "outputs": [
        {
          "output_type": "execute_result",
          "data": {
            "text/plain": [
              "[2000,\n",
              " 2000,\n",
              " 2000,\n",
              " 2000,\n",
              " 2000,\n",
              " 2000,\n",
              " 2000,\n",
              " 2000,\n",
              " 2000,\n",
              " 2000,\n",
              " 2000,\n",
              " 2000,\n",
              " 2000,\n",
              " 2000,\n",
              " 2000,\n",
              " 2000,\n",
              " 2000,\n",
              " 2000,\n",
              " 2000,\n",
              " 2000,\n",
              " 2000,\n",
              " 2000,\n",
              " 2000,\n",
              " 2000,\n",
              " 4500,\n",
              " 4500,\n",
              " 4500,\n",
              " 4500,\n",
              " 4500,\n",
              " 4500,\n",
              " 4500,\n",
              " 4500,\n",
              " 4500,\n",
              " 4500,\n",
              " 4500,\n",
              " 4500,\n",
              " 4500,\n",
              " 4500,\n",
              " 4500,\n",
              " 4500,\n",
              " 4500,\n",
              " 4500,\n",
              " 4500,\n",
              " 4500,\n",
              " 4500,\n",
              " 4500,\n",
              " 4500,\n",
              " 4500,\n",
              " 9500,\n",
              " 9500,\n",
              " 9500,\n",
              " 9500,\n",
              " 9500,\n",
              " 9500,\n",
              " 9500,\n",
              " 9500,\n",
              " 9500,\n",
              " 9500,\n",
              " 9500,\n",
              " 9500,\n",
              " 7580,\n",
              " 7580,\n",
              " 7580,\n",
              " 7580,\n",
              " 7580,\n",
              " 7580,\n",
              " 7580,\n",
              " 7580,\n",
              " 7580,\n",
              " 7580,\n",
              " 7580,\n",
              " 7580,\n",
              " 7120,\n",
              " 7120,\n",
              " 7120,\n",
              " 7120,\n",
              " 7120,\n",
              " 7120,\n",
              " 7120,\n",
              " 7120,\n",
              " 7120,\n",
              " 7120,\n",
              " 7120,\n",
              " 7120,\n",
              " 7120,\n",
              " 7120,\n",
              " 7120,\n",
              " 7120,\n",
              " 7120,\n",
              " 7120,\n",
              " 7120,\n",
              " 7120,\n",
              " 7120,\n",
              " 7120,\n",
              " 7120,\n",
              " 7120]"
            ]
          },
          "metadata": {},
          "execution_count": 20
        }
      ]
    },
    {
      "cell_type": "code",
      "source": [
        "print(list(set(Macro_VS)))"
      ],
      "metadata": {
        "id": "YzGAE4lpqI-e",
        "colab": {
          "base_uri": "https://localhost:8080/"
        },
        "outputId": "7cd3abd7-16c7-4c92-ab4e-729ef3d17d7d"
      },
      "execution_count": null,
      "outputs": [
        {
          "output_type": "stream",
          "name": "stdout",
          "text": [
            "[2000, 7120, 4500, 9500, 7580]\n"
          ]
        }
      ]
    },
    {
      "cell_type": "code",
      "source": [
        "from collections import OrderedDict"
      ],
      "metadata": {
        "id": "y_J2iO4-KCTA"
      },
      "execution_count": null,
      "outputs": []
    },
    {
      "cell_type": "code",
      "source": [
        "unique_list = list(OrderedDict.fromkeys(Macro_VS))\n",
        "print(unique_list)"
      ],
      "metadata": {
        "colab": {
          "base_uri": "https://localhost:8080/"
        },
        "id": "9W37KlHQKzGs",
        "outputId": "7b5ab263-26a2-49c2-db33-c167c1d85973"
      },
      "execution_count": null,
      "outputs": [
        {
          "output_type": "stream",
          "name": "stdout",
          "text": [
            "[2000, 4500, 2580, 2120, 1460]\n"
          ]
        }
      ]
    },
    {
      "cell_type": "code",
      "source": [],
      "metadata": {
        "id": "LprB6B3lK6k1"
      },
      "execution_count": null,
      "outputs": []
    }
  ]
}